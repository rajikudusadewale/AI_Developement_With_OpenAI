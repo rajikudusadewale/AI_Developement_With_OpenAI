{
 "cells": [
  {
   "cell_type": "code",
   "execution_count": 27,
   "metadata": {},
   "outputs": [
    {
     "data": {
      "application/vnd.jupyter.widget-view+json": {
       "model_id": "7bd9a1a937314a8f852810baff01520e",
       "version_major": 2,
       "version_minor": 0
      },
      "text/plain": [
       "SelectMultiple(description='Meals:', index=(0, 1), options=('Breakfast', 'Lunch', 'Dinner', 'Snack'), value=('…"
      ]
     },
     "metadata": {},
     "output_type": "display_data"
    },
    {
     "data": {
      "application/vnd.jupyter.widget-view+json": {
       "model_id": "f07e93ab5b294f59bb41bddb04baf47d",
       "version_major": 2,
       "version_minor": 0
      },
      "text/plain": [
       "Text(value='', description='Diet:', placeholder='e.g., vegetarian, gluten-free')"
      ]
     },
     "metadata": {},
     "output_type": "display_data"
    },
    {
     "data": {
      "application/vnd.jupyter.widget-view+json": {
       "model_id": "9fcfa3cdcb8e44f19eaca370dcf533ab",
       "version_major": 2,
       "version_minor": 0
      },
      "text/plain": [
       "Text(value='', description='Include:', placeholder='e.g., chicken, broccoli')"
      ]
     },
     "metadata": {},
     "output_type": "display_data"
    },
    {
     "data": {
      "application/vnd.jupyter.widget-view+json": {
       "model_id": "60815b3aea9a40f8a66048c8904c1b0a",
       "version_major": 2,
       "version_minor": 0
      },
      "text/plain": [
       "Text(value='', description='Exclude:', placeholder='e.g., peanuts, shellfish')"
      ]
     },
     "metadata": {},
     "output_type": "display_data"
    },
    {
     "data": {
      "application/vnd.jupyter.widget-view+json": {
       "model_id": "4e557c6842884e70a435f3adae521743",
       "version_major": 2,
       "version_minor": 0
      },
      "text/plain": [
       "Button(description='Submit', icon='check', style=ButtonStyle(), tooltip='Click to submit your preferences')"
      ]
     },
     "metadata": {},
     "output_type": "display_data"
    },
    {
     "name": "stdout",
     "output_type": "stream",
     "text": [
      "Generated Recipes:\n",
      "### Breakfast: Banana Rice Porridge\n",
      "- **Ingredients**:\n",
      "  - 1 cup rice\n",
      "  - 1 ripe banana\n",
      "  - 2 cups water\n",
      "  - 1/2 tsp salt\n",
      "  - 1/4 tsp pepper\n",
      "  - Cinnamon (optional)\n",
      "- **Recipe**:\n",
      "  1. Rinse the rice under cold water.\n",
      "  2. In a pot, add the rice, water, salt, and pepper. \n",
      "  3. Bring to a boil, then reduce heat and let it simmer until rice is cooked.\n",
      "  4. Mash the banana and stir it into the cooked rice.\n",
      "  5. Sprinkle cinnamon if desired.\n",
      "- **Total Calories**: 400 kcal\n",
      "- **Number of Servings**: 2\n",
      "- **Prep Time**: 5 minutes\n",
      "- **Cook Time**: 20 minutes\n",
      "- **Total Time**: 25 minutes\n",
      "\n",
      "### Lunch: Spicy Chicken Stir-Fry with Vegetables\n",
      "- **Ingredients**:\n",
      "  - 300g chicken breast, sliced\n",
      "  - 1 tbsp palm oil\n",
      "  - 1/2 tsp salt\n",
      "  - 1/4 tsp pepper\n",
      "  - Mixed vegetables (carrots, bell peppers, green beans)\n",
      "  - Spices (curry powder, thyme, paprika)\n",
      "- **Recipe**:\n",
      "  1. Heat palm oil in a pan and add sliced chicken. Cook until browned.\n",
      "  2. Add salt, pepper, and spices to the chicken.\n",
      "  3. Toss in the mixed vegetables and stir-fry until tender.\n",
      "  4. Adjust seasoning if necessary and serve hot.\n",
      "- **Total Calories**: 600 kcal\n",
      "- **Number of Servings**: 2\n",
      "- **Prep Time**: 10 minutes\n",
      "- **Cook Time**: 15 minutes\n",
      "- **Total Time**: 25 minutes\n",
      "\n",
      "### Dinner: Nigerian Jollof Rice with Grilled Chicken\n",
      "- **Ingredients**:\n",
      "  - 1 cup rice\n",
      "  - 250g chicken drumsticks\n",
      "  - 2 tbsp palm oil\n",
      "  - 1/2 tsp salt\n",
      "  - 1/4 tsp pepper\n",
      "  - 1 onion, chopped\n",
      "  - 1 red bell pepper, diced\n",
      "  - Spices (paprika, thyme, curry powder)\n",
      "- **Recipe**:\n",
      "  1. Season the chicken drumsticks with salt, pepper, and spices. Grill until fully cooked.\n",
      "  2. In a separate pot, heat palm oil and sauté onions until translucent.\n",
      "  3. Add the red bell pepper and cook for a few minutes.\n",
      "  4. Stir in the parboiled rice, spices, and some water. Let it cook until the rice is soft.\n",
      "  5. Serve the jollof rice with the grilled chicken on the side.\n",
      "- **Total Calories**: 900 kcal\n",
      "- **Number of Servings**: 2\n",
      "- **Prep Time**: 15 minutes\n",
      "- **Cook Time**: 30 minutes\n",
      "- **Total Time**: 45 minutes\n",
      "\n",
      "Spicy Chicken Stir-Fry with Vegetables, Banana Rice Porridge, Nigerian Jollof Rice with Grilled Chicken\n"
     ]
    },
    {
     "data": {
      "application/vnd.jupyter.widget-view+json": {
       "model_id": "e7ca322655d346a49e45cc57af489de5",
       "version_major": 2,
       "version_minor": 0
      },
      "text/plain": [
       "HTML(value=\"<img src='https://oaidalleapiprodscus.blob.core.windows.net/private/org-ZVZ9NVIE5CJmOqXxV2AgEZN5/u…"
      ]
     },
     "metadata": {},
     "output_type": "display_data"
    },
    {
     "data": {
      "application/vnd.jupyter.widget-view+json": {
       "model_id": "704f71437348448bbe965f6674dd38d4",
       "version_major": 2,
       "version_minor": 0
      },
      "text/plain": [
       "HTML(value=\"<img src='https://oaidalleapiprodscus.blob.core.windows.net/private/org-ZVZ9NVIE5CJmOqXxV2AgEZN5/u…"
      ]
     },
     "metadata": {},
     "output_type": "display_data"
    },
    {
     "data": {
      "application/vnd.jupyter.widget-view+json": {
       "model_id": "1586857ca8014195900e347d7b371a65",
       "version_major": 2,
       "version_minor": 0
      },
      "text/plain": [
       "HTML(value=\"<img src='https://oaidalleapiprodscus.blob.core.windows.net/private/org-ZVZ9NVIE5CJmOqXxV2AgEZN5/u…"
      ]
     },
     "metadata": {},
     "output_type": "display_data"
    },
    {
     "data": {
      "application/vnd.jupyter.widget-view+json": {
       "model_id": "4c943f14a6e246298a971cf01540c907",
       "version_major": 2,
       "version_minor": 0
      },
      "text/plain": [
       "ToggleButtons(description='Read Aloud:', options=('Yes', 'No'), value='Yes')"
      ]
     },
     "metadata": {},
     "output_type": "display_data"
    }
   ],
   "source": [
    "import ipywidgets as widgets\n",
    "from IPython.display import display\n",
    "import pyttsx3\n",
    "\n",
    "# Load API key\n",
    "import os\n",
    "import openai\n",
    "os.environ['OPENAI_API_KEY'] = '*******************'\n",
    "openai.api_key = os.environ.get('OPENAI_API_KEY')\n",
    "\n",
    "\n",
    "# Step 1: Collect User Information\n",
    "meal_types = widgets.SelectMultiple(\n",
    "    options=['Breakfast', 'Lunch', 'Dinner', 'Snack'],\n",
    "    value=['Breakfast', 'Lunch'],\n",
    "    description='Meals:',\n",
    "    disabled=False\n",
    ")\n",
    "\n",
    "diet_restrictions = widgets.Text(\n",
    "    value='',\n",
    "    placeholder='e.g., vegetarian, gluten-free',\n",
    "    description='Diet:',\n",
    "    disabled=False\n",
    ")\n",
    "\n",
    "specific_ingredients = widgets.Text(\n",
    "    value='',\n",
    "    placeholder='e.g., chicken, broccoli',\n",
    "    description='Include:',\n",
    "    disabled=False\n",
    ")\n",
    "\n",
    "exclude_ingredients = widgets.Text(\n",
    "    value='',\n",
    "    placeholder='e.g., peanuts, shellfish',\n",
    "    description='Exclude:',\n",
    "    disabled=False\n",
    ")\n",
    "\n",
    "submit_button = widgets.Button(\n",
    "    description='Submit',\n",
    "    disabled=False,\n",
    "    button_style='',\n",
    "    tooltip='Click to submit your preferences',\n",
    "    icon='check'\n",
    ")\n",
    "\n",
    "def on_submit_button_clicked(b):\n",
    "    # Step 2: Generate Meal Plans\n",
    "    \n",
    "    ingredients = 'rice, chicken, vegetables, banana, spices, salt, pepper, palm oil'\n",
    "    \n",
    "    exact_ingredients = True  # This should be defined based on your logic\n",
    "    \n",
    "    ingredients = 'rice, chicken, vegetables, banana, spices, salt, pepper, palm oil'\n",
    "\n",
    "    text = f'''\n",
    "    Create a healthy and typical Nigerian daily meal plan for breakfast, lunch, and dinner based on the following ingredients: ```{ingredients}```.\n",
    "    Your output should be in markdown format. \n",
    "    Follow the instructions below carefully.\n",
    "\n",
    "    ### Instructions:\n",
    "    1. {'Use ONLY the provided ingredients with salt, pepper, palm oil, banana, vegetables, rice, chicken, and spices.' if exact_ingredients else 'Feel free to incorporate the provided ingredients as a base and add other ingredients if you consider them necessary to enhance the flavor, nutritional value, or overall appeal of the recipes.'}  \n",
    "    2. Specify the exact amount of each ingredient.\n",
    "    3. Ensure that the total daily calorie intake is below 2000 kcal. \n",
    "    4. For each meal, explain each recipe, step by step, in clear and simple sentences. Use bullet points or numbers to organize the steps.\n",
    "    5. For each meal, specify the total number of calories and the number of servings.\n",
    "    6. For each meal, provide a concise and descriptive title that summarizes the main ingredients and flavors. The title should also be a valid DALL-E prompt to generate an original image for the meal.\n",
    "    7. For each recipe, indicate the prep, cook, and total time.\n",
    "\n",
    "    Before answering, make sure that you have followed the instructions listed above (points 1 to 7).\n",
    "    The last line of your answer should be a string that contains ONLY the titles of the recipes and nothing more, with commas separating each title.\n",
    "    Example of the last line of your answer: \n",
    "    'Spiced Rice and Vegetable Medley, Grilled Chicken with Plantain and Spinach, Pepper Soup with Yam and Greens'\n",
    "    '''\n",
    "\n",
    "    prompt = f\"Create a meal plan with the following preferences:\\n\"\n",
    "    prompt += f\"{text}\\n\"\n",
    "    prompt += f\"Dietary Restrictions: {diet_restrictions.value}\\n\"\n",
    "    prompt += f\"Include Ingredients: {specific_ingredients.value}\\n\"\n",
    "    prompt += f\"Exclude Ingredients: {exclude_ingredients.value}\\n\"\n",
    "    prompt += f\"Meal Types: {', '.join(meal_types.value)}\\n\"\n",
    "    prompt += \"Recipe Titles:\\n\"\n",
    "\n",
    "    \n",
    "    from openai import OpenAI\n",
    "    client = OpenAI()\n",
    "    \n",
    "    system_role = 'You are a professional Nigerian chef with many years of experience'\n",
    "    response = client.chat.completions.create( \n",
    "        model = 'gpt-3.5-turbo',\n",
    "        messages = [{'role': 'user', 'content': prompt},\n",
    "                    {'role': 'system', 'content': system_role}],\n",
    "        temperature = 1,\n",
    "        top_p = 1,\n",
    "        frequency_penalty = 0,\n",
    "        presence_penalty = 0)\n",
    "    \n",
    "    recipes = response.choices[0].message.content\n",
    "    print(\"Generated Recipes:\")\n",
    "    print(recipes)\n",
    "    \n",
    "    # Step 3: Generate Images for Each Recipe\n",
    "    \n",
    "    recipe_titles = recipes.split('\\n')[-1].split(', ')\n",
    "    for title in recipe_titles:\n",
    "        image_prompt = f\"{title}\"\n",
    "        image_response = client.images.generate(\n",
    "            model='dall-e-3',\n",
    "            prompt=image_prompt,\n",
    "            n=1,\n",
    "            size=\"1024x1024\",\n",
    "            quality='standard',\n",
    "            style='natural'\n",
    "        )\n",
    "        image_url = image_response.data[0].url\n",
    "        display(widgets.HTML(f\"<img src='{image_url}' width='400'>\"))\n",
    "    \n",
    "    '''\n",
    "    for meal in meal_types.value:\n",
    "        image_prompt = f\"A meal consisting of {meal}. {diet_restrictions.value}. Includes {specific_ingredients.value}. Excludes {exclude_ingredients.value}.\"\n",
    "        image_response = client.images.generate(\n",
    "            model = 'dall-e-3',\n",
    "            prompt=image_prompt,\n",
    "            n=1,\n",
    "            size=\"1024x1024\",\n",
    "            quality = 'standard',\n",
    "            style = 'natural'\n",
    "        )\n",
    "        image_url = image_response.data[0].url\n",
    "        display(widgets.HTML(f\"<img src='{image_url}' width='400'>\"))\n",
    "    '''\n",
    "    \n",
    "    \n",
    "    # Step 4: Ask if the user wants the recipes read aloud\n",
    "    tts_option = widgets.ToggleButtons(\n",
    "        options=['Yes', 'No'],\n",
    "        description='Read Aloud:',\n",
    "        disabled=False,\n",
    "        button_style=''\n",
    "    )\n",
    "    \n",
    "    def on_tts_option_change(change):\n",
    "        if change['new'] == 'Yes':\n",
    "            \n",
    "            prompt = f'''I will provide a recipe that will be spoken aloud.\n",
    "            If necessary, you will adjust the recipe to make it more readable.\n",
    "            You can also add an introduction and summary, but you won't change the ingredients, instructions,\n",
    "            or other key elements of the recipe.\n",
    "            Recipe:```{recipe}```'''\n",
    "             \n",
    "            from openai import OpenAI\n",
    "            client = OpenAI()\n",
    "\n",
    "            response = client.chat.completions.create(\n",
    "                model='gpt-3.5-turbo',\n",
    "                messages=[\n",
    "                    {'role': 'user', 'content': prompt}\n",
    "                ]\n",
    "            )\n",
    "\n",
    "            spoken_recipe = response.choices[0].message.content\n",
    "            print(spoken_recipe)\n",
    "    \n",
    "            def speak(recipe):\n",
    "                from openai import OpenAI\n",
    "                client = OpenAI()\n",
    "    \n",
    "                response = client.audio.speech.create(\n",
    "                    model='tts-1',\n",
    "                    voice='alloy',\n",
    "                    input=recipe)\n",
    "                return response\n",
    "    \n",
    "            audio_response = speak(spoken_recipe)\n",
    "        \n",
    "        \n",
    "            from IPython.display import Audio\n",
    "            Audio(audio_response)\n",
    "            \n",
    "    tts_option.observe(on_tts_option_change, names='value')\n",
    "    \n",
    "    display(tts_option)\n",
    "\n",
    "submit_button.on_click(on_submit_button_clicked)\n",
    "\n",
    "# Display the widgets\n",
    "display(meal_types, diet_restrictions, specific_ingredients, exclude_ingredients, submit_button)\n"
   ]
  }
 ],
 "metadata": {
  "kernelspec": {
   "display_name": "Python 3",
   "language": "python",
   "name": "python3"
  },
  "language_info": {
   "codemirror_mode": {
    "name": "ipython",
    "version": 3
   },
   "file_extension": ".py",
   "mimetype": "text/x-python",
   "name": "python",
   "nbconvert_exporter": "python",
   "pygments_lexer": "ipython3",
   "version": "3.11.3"
  }
 },
 "nbformat": 4,
 "nbformat_minor": 2
}
