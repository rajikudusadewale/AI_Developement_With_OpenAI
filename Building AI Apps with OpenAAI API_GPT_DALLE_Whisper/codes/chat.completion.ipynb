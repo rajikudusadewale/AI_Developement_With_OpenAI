{
 "cells": [
  {
   "cell_type": "markdown",
   "metadata": {},
   "source": [
    "# Authenticating OPENAI API"
   ]
  },
  {
   "cell_type": "code",
   "execution_count": 1,
   "metadata": {},
   "outputs": [],
   "source": [
    "#pip install openai\n",
    "import openai\n",
    "import os"
   ]
  },
  {
   "cell_type": "markdown",
   "metadata": {},
   "source": [
    "#### 3 methods to load OpenAI API keys"
   ]
  },
  {
   "cell_type": "code",
   "execution_count": 2,
   "metadata": {},
   "outputs": [
    {
     "name": "stdout",
     "output_type": "stream",
     "text": [
      "API key set successfully.\n"
     ]
    }
   ],
   "source": [
    "\n",
    "# 1.  using os.environ\n",
    "\n",
    "os.environ['OPENAI_API_KEY'] = '*******************'\n",
    "openai.api_key = os.environ.get('OPENAI_API_KEY')\n",
    "if not openai.api_key:\n",
    "    print(\"OPENAI_API_KEY environment variable not set.\")\n",
    "else:\n",
    "    print(\"API key set successfully.\")\n"
   ]
  },
  {
   "cell_type": "code",
   "execution_count": 2,
   "metadata": {},
   "outputs": [],
   "source": [
    "'''\n",
    "# 2. using getpass() to get the password from the user.\n",
    "import getpass\n",
    "key = getpass.getpass('Paste your API key: ')\n",
    "openai.api_key = key \n",
    "\n",
    "'''"
   ]
  },
  {
   "cell_type": "code",
   "execution_count": 5,
   "metadata": {},
   "outputs": [
    {
     "data": {
      "text/plain": [
       "\"\\n3. Reading from a text\\n\\noepnai.api_key = open('text.txt').read().strip('\\n)\\n\\n\""
      ]
     },
     "execution_count": 5,
     "metadata": {},
     "output_type": "execute_result"
    }
   ],
   "source": [
    "'''\n",
    "3. Reading from a text\n",
    "\n",
    "oepnai.api_key = open('text.txt').read().strip('\\n)\n",
    "\n",
    "'''"
   ]
  },
  {
   "cell_type": "markdown",
   "metadata": {},
   "source": [
    "# Making GPT Requests Using the OPENAI API"
   ]
  },
  {
   "cell_type": "code",
   "execution_count": 3,
   "metadata": {},
   "outputs": [
    {
     "name": "stdout",
     "output_type": "stream",
     "text": [
      "Name: openai\n",
      "Version: 1.30.1\n",
      "Summary: The official Python library for the openai API\n",
      "Home-page: \n",
      "Author: \n",
      "Author-email: OpenAI <support@openai.com>\n",
      "License: \n",
      "Location: c:\\Users\\USER-PC\\AppData\\Local\\Programs\\Python\\Python311\\Lib\\site-packages\n",
      "Requires: anyio, distro, httpx, pydantic, sniffio, tqdm, typing-extensions\n",
      "Required-by: \n",
      "Note: you may need to restart the kernel to use updated packages.\n"
     ]
    }
   ],
   "source": [
    "pip show openai"
   ]
  },
  {
   "cell_type": "code",
   "execution_count": 4,
   "metadata": {},
   "outputs": [
    {
     "name": "stdout",
     "output_type": "stream",
     "text": [
      "Model(id='dall-e-3', created=1698785189, object='model', owned_by='system')\n",
      "Model(id='whisper-1', created=1677532384, object='model', owned_by='openai-internal')\n",
      "Model(id='davinci-002', created=1692634301, object='model', owned_by='system')\n",
      "Model(id='dall-e-2', created=1698798177, object='model', owned_by='system')\n",
      "Model(id='gpt-3.5-turbo-16k', created=1683758102, object='model', owned_by='openai-internal')\n",
      "Model(id='tts-1-hd-1106', created=1699053533, object='model', owned_by='system')\n",
      "Model(id='tts-1-hd', created=1699046015, object='model', owned_by='system')\n",
      "Model(id='gpt-4', created=1687882411, object='model', owned_by='openai')\n",
      "Model(id='gpt-4-0613', created=1686588896, object='model', owned_by='openai')\n",
      "Model(id='gpt-4-turbo-2024-04-09', created=1712601677, object='model', owned_by='system')\n",
      "Model(id='gpt-3.5-turbo-1106', created=1698959748, object='model', owned_by='system')\n",
      "Model(id='gpt-4-turbo', created=1712361441, object='model', owned_by='system')\n",
      "Model(id='gpt-3.5-turbo-instruct-0914', created=1694122472, object='model', owned_by='system')\n",
      "Model(id='gpt-3.5-turbo-instruct', created=1692901427, object='model', owned_by='system')\n",
      "Model(id='tts-1', created=1681940951, object='model', owned_by='openai-internal')\n",
      "Model(id='gpt-3.5-turbo', created=1677610602, object='model', owned_by='openai')\n",
      "Model(id='gpt-3.5-turbo-0301', created=1677649963, object='model', owned_by='openai')\n",
      "Model(id='babbage-002', created=1692634615, object='model', owned_by='system')\n",
      "Model(id='gpt-4-1106-preview', created=1698957206, object='model', owned_by='system')\n",
      "Model(id='gpt-4-0125-preview', created=1706037612, object='model', owned_by='system')\n",
      "Model(id='tts-1-1106', created=1699053241, object='model', owned_by='system')\n",
      "Model(id='gpt-3.5-turbo-0125', created=1706048358, object='model', owned_by='system')\n",
      "Model(id='gpt-4-turbo-preview', created=1706037777, object='model', owned_by='system')\n",
      "Model(id='text-embedding-3-large', created=1705953180, object='model', owned_by='system')\n",
      "Model(id='gpt-4o-2024-05-13', created=1715368132, object='model', owned_by='system')\n",
      "Model(id='gpt-4o', created=1715367049, object='model', owned_by='system')\n",
      "Model(id='text-embedding-3-small', created=1705948997, object='model', owned_by='system')\n",
      "Model(id='gpt-3.5-turbo-0613', created=1686587434, object='model', owned_by='openai')\n",
      "Model(id='text-embedding-ada-002', created=1671217299, object='model', owned_by='openai-internal')\n",
      "Model(id='gpt-4-1106-vision-preview', created=1711473033, object='model', owned_by='system')\n",
      "Model(id='gpt-4-vision-preview', created=1698894917, object='model', owned_by='system')\n",
      "Model(id='gpt-3.5-turbo-16k-0613', created=1685474247, object='model', owned_by='openai')\n"
     ]
    }
   ],
   "source": [
    "# Getting the list of the available models in OpenAI \n",
    "\n",
    "from openai import OpenAI\n",
    "client = OpenAI()\n",
    "for model in client.models.list():\n",
    "    print(model)\n"
   ]
  },
  {
   "cell_type": "code",
   "execution_count": 18,
   "metadata": {},
   "outputs": [
    {
     "name": "stdout",
     "output_type": "stream",
     "text": [
      "ChatCompletion(id='chatcmpl-9OrFPjVzT0YgbKuSaVxqz33cP0YGG', choices=[Choice(finish_reason='stop', index=0, logprobs=None, message=ChatCompletionMessage(content='A Senior Product Associate in the HR category typically handles a variety of responsibilities related to product management within the human resources department. Their role may involve tasks such as developing and implementing HR products and services, conducting market research to identify industry trends, collaborating with cross-functional teams to ensure product success, and analyzing data to make informed product decisions. Additionally, they may be involved in product marketing, training, and support to ensure that HR products meet the needs of both the organization and its employees. Ultimately, the Senior Product Associate in HR plays a crucial role in creating and maintaining effective HR products that support the overall goals and objectives of the organization.', role='assistant', function_call=None, tool_calls=None))], created=1715711583, model='gpt-3.5-turbo-0125', object='chat.completion', system_fingerprint=None, usage=CompletionUsage(completion_tokens=126, prompt_tokens=28, total_tokens=154))\n"
     ]
    }
   ],
   "source": [
    "from openai import OpenAI\n",
    "client = OpenAI()\n",
    "\n",
    "response = client.chat.completions.create(\n",
    "    model=\"gpt-3.5-turbo\",\n",
    "    messages=[\n",
    "        {\"role\": \"system\", \"content\": \"You are a helpful assistant\"},\n",
    "        {\"role\": \"user\", \"content\": \"What is the role of a Senior Product associate in HR Category\"}\n",
    "        ]\n",
    ")\n",
    "\n",
    "print(response)"
   ]
  },
  {
   "cell_type": "code",
   "execution_count": 19,
   "metadata": {},
   "outputs": [
    {
     "name": "stdout",
     "output_type": "stream",
     "text": [
      "A Senior Product Associate in the HR category typically handles a variety of responsibilities related to product management within the human resources department. Their role may involve tasks such as developing and implementing HR products and services, conducting market research to identify industry trends, collaborating with cross-functional teams to ensure product success, and analyzing data to make informed product decisions. Additionally, they may be involved in product marketing, training, and support to ensure that HR products meet the needs of both the organization and its employees. Ultimately, the Senior Product Associate in HR plays a crucial role in creating and maintaining effective HR products that support the overall goals and objectives of the organization.\n"
     ]
    }
   ],
   "source": [
    "print(response.choices[0].message.content)"
   ]
  },
  {
   "cell_type": "code",
   "execution_count": 20,
   "metadata": {},
   "outputs": [
    {
     "name": "stdout",
     "output_type": "stream",
     "text": [
      "ChatCompletion(id='chatcmpl-9OrFf1ZBAX718rEt3umYkLt2P4Oza', choices=[Choice(finish_reason='stop', index=0, logprobs=None, message=ChatCompletionMessage(content='Certainly! A Senior Product Associate needs a combination of technical skills and soft skills to excel in their role. Here are some key technical skills and soft skills required for a Senior Product Associate:\\n\\nTechnical Skills:\\n1. Product management: Ability to develop and execute product strategies, define product roadmaps, and prioritize feature development based on customer needs.\\n2. Data analysis: Proficiency in analyzing product performance metrics, conducting market research, and using data to make informed product decisions.\\n3. Agile methodology: Experience working in agile environments and knowledge of agile product development principles.\\n4. UX/UI design: Understanding of user experience (UX) and user interface (UI) design principles to create intuitive and user-friendly products.\\n5. Project management: Strong project management skills to track timelines, manage resources, and ensure timely delivery of product features.\\n\\nSoft Skills:\\n1. Communication: Excellent written and verbal communication skills to collaborate with cross-functional teams, present product ideas, and engage with stakeholders.\\n2. Problem-solving: Ability to identify and address product challenges, anticipate customer needs, and develop innovative solutions.\\n3. Leadership: Strong leadership skills to motivate team members, provide guidance, and drive product development initiatives.\\n4. Adaptability: Flexibility to adapt to changing priorities, market trends, and customer feedback to refine product strategies.\\n5. Collaboration: Effective teamwork and ability to work collaboratively with stakeholders, developers, designers, and other team members to deliver successful products.\\n\\nThese skills are essential for a Senior Product Associate to drive product growth, deliver value to customers, and contribute to the overall success of the product development process.', role='assistant', function_call=None, tool_calls=None))], created=1715711599, model='gpt-3.5-turbo-0125', object='chat.completion', system_fingerprint=None, usage=CompletionUsage(completion_tokens=319, prompt_tokens=33, total_tokens=352))\n"
     ]
    }
   ],
   "source": [
    "from openai import OpenAI\n",
    "client = OpenAI()\n",
    "\n",
    "response = client.chat.completions.create(\n",
    "    model=\"gpt-3.5-turbo\",\n",
    "    messages=[\n",
    "        {\"role\": \"system\", \"content\": \"You are a helpful assistant\"},\n",
    "        {\"role\": \"user\", \"content\": \"can you tell me various technical skills and soft skills required for a Senior Product Associate?\"}\n",
    "        ]\n",
    ")\n",
    "\n",
    "print(response)"
   ]
  },
  {
   "cell_type": "code",
   "execution_count": 22,
   "metadata": {},
   "outputs": [
    {
     "name": "stdout",
     "output_type": "stream",
     "text": [
      "Certainly! A Senior Product Associate needs a combination of technical skills and soft skills to excel in their role. Here are some key technical skills and soft skills required for a Senior Product Associate:\n",
      "\n",
      "Technical Skills:\n",
      "1. Product management: Ability to develop and execute product strategies, define product roadmaps, and prioritize feature development based on customer needs.\n",
      "2. Data analysis: Proficiency in analyzing product performance metrics, conducting market research, and using data to make informed product decisions.\n",
      "3. Agile methodology: Experience working in agile environments and knowledge of agile product development principles.\n",
      "4. UX/UI design: Understanding of user experience (UX) and user interface (UI) design principles to create intuitive and user-friendly products.\n",
      "5. Project management: Strong project management skills to track timelines, manage resources, and ensure timely delivery of product features.\n",
      "\n",
      "Soft Skills:\n",
      "1. Communication: Excellent written and verbal communication skills to collaborate with cross-functional teams, present product ideas, and engage with stakeholders.\n",
      "2. Problem-solving: Ability to identify and address product challenges, anticipate customer needs, and develop innovative solutions.\n",
      "3. Leadership: Strong leadership skills to motivate team members, provide guidance, and drive product development initiatives.\n",
      "4. Adaptability: Flexibility to adapt to changing priorities, market trends, and customer feedback to refine product strategies.\n",
      "5. Collaboration: Effective teamwork and ability to work collaboratively with stakeholders, developers, designers, and other team members to deliver successful products.\n",
      "\n",
      "These skills are essential for a Senior Product Associate to drive product growth, deliver value to customers, and contribute to the overall success of the product development process.\n"
     ]
    }
   ],
   "source": [
    "print(response.choices[0].message.content)"
   ]
  },
  {
   "cell_type": "code",
   "execution_count": 5,
   "metadata": {},
   "outputs": [
    {
     "name": "stdout",
     "output_type": "stream",
     "text": [
      "Alright team, listen up. I know we're down 5-0 against Barca at halftime, but we cannot give up. Remember, football is a game of two halves and anything can happen. We need to stay positive, focused, and keep fighting until the final whistle.\n",
      "\n",
      "Barca may be a tough opponent, but we are Manchester United - one of the greatest clubs in the world. We have the skill, talent, and determination to turn this game around. It will take each and every one of us working together as a team, supporting each other on the pitch.\n",
      "\n",
      "Let's go out there in the second half with a never-say-die attitude. Play with heart, passion, and belief in yourselves. Show the world what we're made of and fight for every ball, every challenge, and every goal.\n",
      "\n",
      "Believe in yourselves and each other. We can do this. Let's go out there and make a statement. Manchester United never gives up. Let's show Barca what we're made of. Now go out there and give it your all!\n"
     ]
    }
   ],
   "source": [
    "from openai import OpenAI\n",
    "client = OpenAI()\n",
    "\n",
    "\n",
    "system_role = \"You are the coach of a football club name 'Manchester United'.\"\n",
    "response = client.chat.completions.create(\n",
    "    model=\"gpt-3.5-turbo\",\n",
    "    messages=[\n",
    "        {\"role\": \"system\", \"content\": system_role},\n",
    "        {\"role\": \"user\", \"content\": \"Talk to your players during the half time when you are loosing to Barca at 5 against 0\"}\n",
    "        ]\n",
    ")\n",
    "\n",
    "print(response.choices[0].message.content)"
   ]
  },
  {
   "cell_type": "code",
   "execution_count": 6,
   "metadata": {},
   "outputs": [
    {
     "name": "stdout",
     "output_type": "stream",
     "text": [
      "CompletionUsage(completion_tokens=217, prompt_tokens=46, total_tokens=263)\n"
     ]
    }
   ],
   "source": [
    "print(response.usage)"
   ]
  },
  {
   "cell_type": "markdown",
   "metadata": {},
   "source": [
    "# Chat Completion API parameters"
   ]
  },
  {
   "cell_type": "code",
   "execution_count": 11,
   "metadata": {},
   "outputs": [
    {
     "name": "stdout",
     "output_type": "stream",
     "text": [
      "Woman: A Symbol of Strength and Resilience\n",
      "\n",
      "Women have always played a crucial role in shaping societies, economies, and cultures around the world. Despite facing numerous challenges and obstacles, women have continued to rise above adversity and showcase their strength, resilience, and determination.\n",
      "\n",
      "Throughout history, women have proven their capabilities in various fields, breaking barriers and shattering stereotypes along the way. From leading movements for equality and justice to excelling in traditionally male-dominated professions, women have shown time and time again that they are a force to be reckoned with.\n",
      "\n",
      "Women are not only warriors in the face of adversity but also nurturers, caregivers, and pillars of support for their families and communities. They possess a unique ability to juggle multiple roles and responsibilities with grace and compassion, often sacrificing their own needs for the well-being of others.\n",
      "\n",
      "In recent years, there has been a significant push for gender equality and empowerment of women on a global scale. Initiatives aimed at closing the gender pay gap, increasing access to education and healthcare for women and girls, and ending violence against women have gained momentum, thanks to the tireless efforts of activists and advocates.\n",
      "\n",
      "As we continue to celebrate the achievements and contributions of women all around the world, it is essential to recognize the work that still needs to be done to ensure true equality and justice for women everywhere. By supporting and uplifting women in their quest for empowerment and recognition, we can create a more inclusive and equitable society for future generations to thrive in.\n",
      "\n",
      "In conclusion, women are not just half of the world's population – they are the backbone of society, the driving force behind progress, and the embodiment of strength, resilience, and grace. It is time to honor and celebrate the women in our lives and work together towards a more equitable and just world for all.\n"
     ]
    }
   ],
   "source": [
    "from openai import OpenAI\n",
    "client = OpenAI()\n",
    "\n",
    "\n",
    "response = client.chat.completions.create(\n",
    "    model=\"gpt-3.5-turbo\",\n",
    "    messages=[\n",
    "        {\"role\": \"system\", \"content\": \"You are a helpful Assistant\"},\n",
    "        {\"role\": \"user\", \"content\": \"Write a short article on Woman.\"}],\n",
    "    temperature= 1\n",
    "    #max_tokens= 100,\n",
    "    #top_p= 1.0,\n",
    "    #frequency_penalty= 0.0,\n",
    "    #presence_penalty= 0.0,\n",
    "    #n = 2,\n",
    "    #stop=[',',':',';']\n",
    "    )\n",
    "\n",
    "print(response.choices[0].message.content)"
   ]
  },
  {
   "cell_type": "markdown",
   "metadata": {},
   "source": [
    "# Prompt Engineering for Python Developers"
   ]
  },
  {
   "cell_type": "code",
   "execution_count": 12,
   "metadata": {},
   "outputs": [
    {
     "name": "stdout",
     "output_type": "stream",
     "text": [
      "Woman: A Symbol of Strength and Resilience\n",
      "\n",
      "Women have always played a crucial role in shaping societies, economies, and cultures around the world. Despite facing numerous challenges and obstacles, women have continued to rise above adversity and showcase their strength, resilience, and determination.\n",
      "\n",
      "Throughout history, women have proven their capabilities in various fields, breaking barriers and shattering stereotypes along the way. From leading movements for equality and justice to excelling in traditionally male-dominated professions, women have shown time and time again that they are a force to be reckoned with.\n",
      "\n",
      "Women are not only warriors in the face of adversity but also nurturers, caregivers, and pillars of support for their families and communities. They possess a unique ability to juggle multiple roles and responsibilities with grace and compassion, often sacrificing their own needs for the well-being of others.\n",
      "\n",
      "In recent years, there has been a significant push for gender equality and empowerment of women on a global scale. Initiatives aimed at closing the gender pay gap, increasing access to education and healthcare for women and girls, and ending violence against women have gained momentum, thanks to the tireless efforts of activists and advocates.\n",
      "\n",
      "As we continue to celebrate the achievements and contributions of women all around the world, it is essential to recognize the work that still needs to be done to ensure true equality and justice for women everywhere. By supporting and uplifting women in their quest for empowerment and recognition, we can create a more inclusive and equitable society for future generations to thrive in.\n",
      "\n",
      "In conclusion, women are not just half of the world's population – they are the backbone of society, the driving force behind progress, and the embodiment of strength, resilience, and grace. It is time to honor and celebrate the women in our lives and work together towards a more equitable and just world for all.\n"
     ]
    }
   ],
   "source": [
    "import os\n",
    "import openai\n",
    "\n",
    "def generate_response():\n",
    "    from openai import OpenAI\n",
    "    client = OpenAI()\n",
    "\n",
    "    # Get system prompt from user\n",
    "    system_prompt = input(\"Enter the system prompt: \")\n",
    "\n",
    "    # Get user prompt from user\n",
    "    user_prompt = input(\"Enter the user prompt: \")\n",
    "\n",
    "    # Get model from user\n",
    "    model = input(\"Enter the model (e.g., gpt-3.5-turbo): \")\n",
    "\n",
    "    # Get temperature from user\n",
    "    temperature = float(input(\"Enter the temperature (e.g., 1): \"))\n",
    "\n",
    "    # Get max_tokens from user\n",
    "    max_tokens = int(input(\"Enter the max_tokens (e.g., 100): \"))\n",
    "\n",
    "    # Get top_p from user\n",
    "    top_p = float(input(\"Enter the top_p (e.g., 1.0): \"))\n",
    "\n",
    "    # Get frequency_penalty from user\n",
    "    frequency_penalty = float(input(\"Enter the frequency_penalty (e.g., 0.0): \"))\n",
    "\n",
    "    # Get presence_penalty from user\n",
    "    presence_penalty = float(input(\"Enter the presence_penalty (e.g., 0.0): \"))\n",
    "\n",
    "    # Get n from user\n",
    "    n = int(input(\"Enter the n (e.g., 2): \"))\n",
    "\n",
    "    # Get stop from user\n",
    "    stop = input(\"Enter the stop (e.g., ',',':',';'): \").split(\",\")\n",
    "\n",
    "    # Create the messages list\n",
    "    messages = [\n",
    "        {\"role\": \"system\", \"content\": system_prompt},\n",
    "        {\"role\": \"user\", \"content\": user_prompt}\n",
    "    ]\n",
    "\n",
    "    # Call the OpenAI API\n",
    "\n",
    "    # Print the response\n",
    "    print(response.choices[0].message.content)\n",
    "\n",
    "# Call the function\n",
    "generate_response()\n"
   ]
  },
  {
   "cell_type": "code",
   "execution_count": 16,
   "metadata": {},
   "outputs": [],
   "source": [
    "import os\n",
    "import openai\n",
    "from openai import OpenAI\n",
    "client = OpenAI()\n",
    "\n",
    "def generate_response(user_prompt, system_role = 'You are a helpful assistant',\n",
    "                      model='gpt-3.5-turbo', temperature = 1 ):\n",
    "    messages=[\n",
    "        {\"role\": \"system\", \"content\": system_role},\n",
    "        {\"role\": \"user\", \"content\": user_prompt}\n",
    "    ]\n",
    "    \n",
    "    response = client.chat.completions.create(model=model, messages=messages, temperature=temperature)\n",
    "    \n",
    "    return response.choices[0].message.content\n"
   ]
  },
  {
   "cell_type": "code",
   "execution_count": 17,
   "metadata": {},
   "outputs": [
    {
     "name": "stdout",
     "output_type": "stream",
     "text": [
      "Life generally refers to the existence of living organisms, characterized by processes such as growth, reproduction, responsiveness to stimuli, and the ability to adapt to changes in the environment. It is a complex phenomenon that scientists continue to study and explore.\n"
     ]
    }
   ],
   "source": [
    "response = generate_response(\n",
    "    \"WHat is life?\")\n",
    "\n",
    "print(response)"
   ]
  },
  {
   "cell_type": "markdown",
   "metadata": {},
   "source": [
    "# Be specific with your input and output"
   ]
  },
  {
   "cell_type": "code",
   "execution_count": 28,
   "metadata": {},
   "outputs": [
    {
     "name": "stdout",
     "output_type": "stream",
     "text": [
      "Introduction:\n",
      "The Ethical Implications of Artificial Intelligence\n",
      "\n",
      "- Bias in AI Systems: AI technology may perpetuate existing biases, affecting areas such as law enforcement and job recruitment.\n",
      "- Privacy Concerns: Increasing use of AI raises issues of consent, data security, and surveillance.\n",
      "- Accountability and Transparency: Challenges arise in determining responsibility for AI failures due to opaque decision-making processes.\n",
      "--------------------------------------------------------------------------------------------------------------------------------------------------------------------------------------------------------\n"
     ]
    }
   ],
   "source": [
    "text = '''\n",
    "The Ethical Implications of Artificial Intelligence\n",
    "Introduction\n",
    "The rise of artificial intelligence (AI) technology has transformed industries, reshaping how we live, work, and interact. While the benefits of AI are substantial, ranging from improved healthcare diagnostics to more efficient supply chains, the ethical implications of this rapidly advancing technology are profound and complex. This article explores the primary ethical concerns associated with AI, including issues of bias, privacy, accountability, and the broader impacts on society.\n",
    "\n",
    "Bias in AI Systems\n",
    "One of the most pressing ethical issues with AI is the risk of perpetuating or even exacerbating existing biases. AI systems learn from vast datasets, and if those datasets contain historical biases or skewed information, the AI's decisions will reflect those biases. This is particularly concerning in fields like law enforcement, job recruitment, and loan approvals, where biased AI can lead to unfair outcomes for marginalized groups.\n",
    "\n",
    "Privacy Concerns\n",
    "As AI technologies become more pervasive, the potential for privacy invasion increases. AI systems that track and analyze our behaviors can collect an immense amount of personal information. This data collection raises significant concerns about consent, data security, and the potential for surveillance. Balancing the benefits of AI-driven analytics with the right to privacy is a crucial challenge for society.\n",
    "\n",
    "Accountability and Transparency\n",
    "Determining who is responsible when AI systems fail or cause harm is another critical ethical issue. The \"black box\" nature of some AI systems, where the decision-making process is opaque, complicates accountability. Without transparency in how AI decisions are made, it's challenging to attribute responsibility or correct errors in AI behavior.\n",
    "'''\n",
    "\n",
    "user_prompt = f'''\n",
    "summarize the text below, delimited by < and >. \n",
    "Start the summary with introduction sentence, create bullet for each point. All words should not be more than 70:\n",
    "Text: <{text}>\n",
    "'''\n",
    "\n",
    "response = generate_response(user_prompt)\n",
    "print(response)\n",
    "print('-'*200)"
   ]
  },
  {
   "cell_type": "markdown",
   "metadata": {},
   "source": [
    "# Use the RTD format : Rich Text Format ---> Role, Task, Format"
   ]
  },
  {
   "cell_type": "code",
   "execution_count": 38,
   "metadata": {},
   "outputs": [
    {
     "name": "stdout",
     "output_type": "stream",
     "text": [
      "<!DOCTYPE html>\n",
      "<html>\n",
      "\n",
      "<head>\n",
      "    <title>Healthy Nigerian Meal Plan for Weight Loss</title>\n",
      "</head>\n",
      "\n",
      "<body>\n",
      "    <h1>Weekly Meal Plan for Weight Loss</h1>\n",
      "    <p>Each day's meal plan is under 500 calories.</p>\n",
      "\n",
      "    <h2>Monday</h2>\n",
      "    <h3>Breakfast: Spicy Vegetable Omelette</h3>\n",
      "    <p>A delicious and filling omelette packed with a variety of nutritious vegetables.</p>\n",
      "    <h4>Ingredients:</h4>\n",
      "    <ul>\n",
      "        <li>3 eggs</li>\n",
      "        <li>Assorted vegetables (e.g., bell peppers, onions, tomatoes)</li>\n",
      "        <li>Spices (e.g., cayenne pepper, black pepper)</li>\n",
      "    </ul>\n",
      "    <h4>Instructions:</h4>\n",
      "    <ol>\n",
      "        <li>Beat eggs in a bowl.</li>\n",
      "        <li>Sauté chopped vegetables in a non-stick pan until tender.</li>\n",
      "        <li>Pour eggs over vegetables and cook until set.</li>\n",
      "        <li>Season with spices and fold in half to serve.</li>\n",
      "    </ol>\n",
      "    <h4>Health Benefits:</h4>\n",
      "    <p>This breakfast provides a good source of protein from the eggs and essential nutrients from the vegetables.</p>\n",
      "\n",
      "\n",
      "    <h3>Lunch: Grilled Chicken Salad</h3>\n",
      "    <p>A light and refreshing salad with lean protein.</p>\n",
      "    <h4>Ingredients:</h4>\n",
      "    <ul>\n",
      "        <li>Grilled chicken breast</li>\n",
      "        <li>Assorted salad greens</li>\n",
      "        <li>Cherry tomatoes</li>\n",
      "        <li>Balsamic vinaigrette dressing</li>\n",
      "    </ul>\n",
      "    <h4>Instructions:</h4>\n",
      "    <ol>\n",
      "        <li>Grill chicken and slice into strips.</li>\n",
      "        <li>Assemble salad greens, cherry tomatoes, and chicken in a bowl.</li>\n",
      "        <li>Drizzle with balsamic vinaigrette dressing.</li>\n",
      "    </ol>\n",
      "    <h4>Health Benefits:</h4>\n",
      "    <p>This salad is low in calories and high in protein, making it a satisfying meal for weight loss.</p>\n",
      "\n",
      "\n",
      "    <h3>Dinner: Fish and Vegetable Stir-Fry</h3>\n",
      "    <p>A flavorful stir-fry dish with fish and a variety of vegetables.</p>\n",
      "    <h4>Ingredients:</h4>\n",
      "    <ul>\n",
      "        <li>White fish fillets</li>\n",
      "        <li>Broccoli</li>\n",
      "        <li>Carrots</li>\n",
      "        <li>Bell peppers</li>\n",
      "        <li>Soy sauce, garlic, ginger</li>\n",
      "    </ul>\n",
      "    <h4>Instructions:</h4>\n",
      "    <ol>\n",
      "        <li>Cut fish into cubes and marinate with soy sauce, garlic, and ginger.</li>\n",
      "        <li>Stir-fry fish in a pan until cooked, then set aside.</li>\n",
      "        <li>Sauté broccoli, carrots, and bell peppers in the same pan.</li>\n",
      "        <li>Add fish back to the pan and cook until heated through.</li>\n",
      "    </ol>\n",
      "    <h4>Health Benefits:</h4>\n",
      "    <p>This dinner is rich in protein from the fish and packed with vitamins and fiber from the vegetables.</p>\n",
      "\n",
      "</body>\n",
      "\n",
      "</html>\n"
     ]
    }
   ],
   "source": [
    "system_role = 'Act as a chef with many years of experience in cooking healthy Nigeria food.'\n",
    "user_prompt = '''\n",
    "Write a weekly meal plan for weight loss. Each day will have breakfast, lunch, and dinner.\n",
    "Keep it under 500 calories per day.\n",
    "Give title to the recipe.\n",
    "write the description of the recipe.\n",
    "write a list of ingredients.\n",
    "write  full steps to make the recipe.\n",
    "write list health benefits for each recipe.\n",
    "Use the following ingredients:\n",
    "1. rice\n",
    "2. eggs\n",
    "3. broccoli\n",
    "4. chicken \n",
    "5. various vegetables\n",
    "6. various fruits\n",
    "7. various spices\n",
    "8. various fish\n",
    "\n",
    "<Format: format everything as HTML 5.>\n",
    "'''\n",
    "\n",
    "\n",
    "response = generate_response(system_role, user_prompt)\n",
    "print(response)"
   ]
  },
  {
   "cell_type": "markdown",
   "metadata": {},
   "source": [
    "To display on web view"
   ]
  },
  {
   "cell_type": "code",
   "execution_count": 37,
   "metadata": {},
   "outputs": [
    {
     "data": {
      "text/html": [
       "<!DOCTYPE html>\n",
       "<html lang=\"en\">\n",
       "<head>\n",
       "<meta charset=\"UTF-8\">\n",
       "<meta name=\"viewport\" content=\"width=device-width, initial-scale=1.0\">\n",
       "<title>Healthy Nigerian Meal Plan for Weight Loss</title>\n",
       "</head>\n",
       "<body>\n",
       "\n",
       "<h1>Healthy Nigerian Meal Plan for Weight Loss</h1>\n",
       "\n",
       "<h2>Day 1</h2>\n",
       "\n",
       "<h3>Breakfast: Veggie Omelette</h3>\n",
       "<p>A delicious and nutritious omelette packed with veggies.</p>\n",
       "<p><strong>Ingredients:</strong></p>\n",
       "<ul>\n",
       "<li>2 eggs</li>\n",
       "<li>Assorted vegetables (bell peppers, onions, tomatoes)</li>\n",
       "<li>Various spices (salt, black pepper, paprika)</li>\n",
       "</ul>\n",
       "<p><strong>Instructions:</strong></p>\n",
       "<ol>\n",
       "<li>Beat the eggs in a bowl and season with salt and pepper.</li>\n",
       "<li>Sauté the vegetables in a non-stick pan until tender.</li>\n",
       "<li>Pour the beaten eggs over the vegetables.</li>\n",
       "<li>Cook until the eggs are set and fold the omelette in half.</li>\n",
       "</ol>\n",
       "<p><strong>Health Benefits:</strong> High in protein and fiber, low in calories.</p>\n",
       "\n",
       "<h3>Lunch: Grilled Chicken with Steamed Broccoli</h3>\n",
       "<p>A simple yet flavorful meal.</p>\n",
       "<p><strong>Ingredients:</strong></p>\n",
       "<ul>\n",
       "<li>Grilled chicken breast</li>\n",
       "<li>Steamed broccoli</li>\n",
       "<li>Various spices (garlic powder, onion powder, cayenne pepper)</li>\n",
       "</ul>\n",
       "<p><strong>Instructions:</strong></p>\n",
       "<ol>\n",
       "<li>Season the chicken with spices and grill until cooked through.</li>\n",
       "<li>Steam the broccoli until tender-crisp.</li>\n",
       "<li>Serve the chicken with the steamed broccoli.</li>\n",
       "</ol>\n",
       "<p><strong>Health Benefits:</strong> Lean protein from chicken, vitamins and minerals from broccoli.</p>\n",
       "\n",
       "<h3>Dinner: Fish Pepper Soup</h3>\n",
       "<p>A traditional Nigerian soup with a spicy kick.</p>\n",
       "<p><strong>Ingredients:</strong></p>\n",
       "<ul>\n",
       "<li>White fish fillets</li>\n",
       "<li>Assorted vegetables (scent leaves, bell peppers)</li>\n",
       "<li>Various spices (pepper soup spice mix, crayfish)</li>\n",
       "</ul>\n",
       "<p><strong>Instructions:</strong></p>\n",
       "<ol>\n",
       "<li>Boil water with pepper soup spices and crayfish.</li>\n",
       "<li>Add the fish fillets and vegetables to the boiling broth.</li>\n",
       "<li>Simmer until the fish is cooked through and the flavors meld together.</li>\n",
       "</ol>\n",
       "<p><strong>Health Benefits:</strong> High in protein, vitamins, and minerals, low in calories.</p>\n",
       "\n",
       "</body>\n",
       "</html>"
      ],
      "text/plain": [
       "<IPython.core.display.HTML object>"
      ]
     },
     "metadata": {},
     "output_type": "display_data"
    }
   ],
   "source": [
    "from IPython.display import display, HTML\n",
    "display(HTML(response))"
   ]
  },
  {
   "cell_type": "markdown",
   "metadata": {},
   "source": [
    "## Few Shot Prompting"
   ]
  },
  {
   "cell_type": "code",
   "execution_count": 39,
   "metadata": {},
   "outputs": [
    {
     "name": "stdout",
     "output_type": "stream",
     "text": [
      "Love is like a beautiful garden that requires nurturing, patience, and understanding. It is a bond that grows stronger over time, like the roots of a mighty tree. Just as the sun sustains the flowers and the rain nourishes the soil, love thrives on kindness, compassion, and mutual respect. Embrace love with an open heart and let it blossom into something truly magical.\n"
     ]
    }
   ],
   "source": [
    "# FEW-SHOT\n",
    "prompt = '''\n",
    "You are an assistant that answers in a consistent manner.\n",
    "\n",
    "[apprentice]: Teach me about patience.\n",
    "\n",
    "[master]: The river that carves the deepest valley flows from a modest spring;\\\n",
    "the grandest symphony originates from a single note;\\\n",
    "the most intricate tapestry begins with a solitary thread.\n",
    "\n",
    "[apprentice]: Teach me about love.\n",
    "'''\n",
    "response = generate_response(prompt)\n",
    "print(response)"
   ]
  },
  {
   "cell_type": "markdown",
   "metadata": {},
   "source": [
    "## Chain-of-Thought Prompting"
   ]
  },
  {
   "cell_type": "code",
   "execution_count": 40,
   "metadata": {},
   "outputs": [
    {
     "name": "stdout",
     "output_type": "stream",
     "text": [
      "Summary: The text discusses the ethical implications of Artificial Intelligence, including issues of bias, privacy, and accountability.\n",
      "\n",
      "Translation: O texto discute as implicações éticas da Inteligência Artificial, incluindo questões de viés, privacidade e responsabilidade.\n",
      "\n",
      "[\"Mercury\", \"Venus\", \"Earth\", \"Mars\", \"Jupiter\", \"Saturn\", \"Uranus\", \"Neptune\"]\n",
      "\n",
      "{\n",
      "  \"planet_name\": [\"Mercury\", \"Venus\", \"Earth\", \"Mars\", \"Jupiter\", \"Saturn\", \"Uranus\", \"Neptune\"],\n",
      "  \"planet_characteristics\": \"Various details about each planet in our solar system.\"\n",
      "}\n"
     ]
    }
   ],
   "source": [
    "system_role = '''\n",
    "Use the following step-by-step instructions to respond to user inputs.\n",
    "\n",
    "Step 1 - The user will provide you with text in triple quotes. Summarize this text in one sentence with a prefix that says \"Summary: \".\n",
    "Step 2 - Translate the summary from Step 1 into Portuguese, with a prefix that says \"Translation: \".\n",
    "Step 3 - Extract each planet in the original text into a Python list.\n",
    "Step 4 - From the original text, output a json object that contains the following keys: planet_name, planet_characteristics.\n",
    "\n",
    "Separate your answers with line breaks.\n",
    "'''\n",
    "\n",
    "prompt = f'''\n",
    "```{text}```\n",
    "'''\n",
    "\n",
    "response = generate_response(user_prompt=prompt, system_role=system_role)\n",
    "print(response)"
   ]
  },
  {
   "cell_type": "markdown",
   "metadata": {},
   "source": [
    "## Give Models time to think"
   ]
  },
  {
   "cell_type": "code",
   "execution_count": 41,
   "metadata": {},
   "outputs": [
    {
     "name": "stdout",
     "output_type": "stream",
     "text": [
      "The student's solution is not correct. \n",
      "The total cost for the first year of operations should be the sum of the land cost, solar panel cost, and maintenance cost. The correct calculation is as follows:\n",
      "\n",
      "- Land cost: $100/square foot * x square feet = $100x\n",
      "- Solar panel cost: $250/square foot * x square feet = $250x\n",
      "- Maintenance cost: $100,000 + $10/square foot * x square feet = $100,000 + $10x\n",
      "\n",
      "Total cost: $100x + $250x + $100,000 + $10x = $360x + $100,000\n",
      "\n",
      "Therefore, the correct total cost for the first year of operations as a function of the number of square feet is $360x + $100,000.\n"
     ]
    }
   ],
   "source": [
    "system_role = '''Determine if the student's solution is correct or not.'''\n",
    "prompt = '''\n",
    "Problem Statement: I'm building a solar power installation and I need help working out the financials.\n",
    "- Land costs $100 / square foot\n",
    "- I can buy solar panels for $250 / square foot\n",
    "- I negotiated a contract for maintenance that will cost me a flat $100k per year, and an additional $10 / square foot\n",
    "- What is the total cost for the first year of operations as a function of the number of square feet.\n",
    "\n",
    "Student's Solution: Let x be the size of the installation in square feet.\n",
    "1. Land cost: 100x\n",
    "2. Solar panel cost: 250x\n",
    "3. Maintenance cost: 100,000 + 100x\n",
    "Total cost: 100x + 250x + 100,000 + 100x = 450x + 100,000\n",
    "'''\n",
    "response = generate_response(user_prompt=prompt, system_role=system_role)\n",
    "print(response)"
   ]
  },
  {
   "cell_type": "code",
   "execution_count": 42,
   "metadata": {},
   "outputs": [
    {
     "name": "stdout",
     "output_type": "stream",
     "text": [
      "Let's calculate the total cost for the first year of operations as a function of the number of square feet square feet:\n",
      "\n",
      "1. Land cost: $100 / square foot * x square feet = $100x\n",
      "2. Solar panel cost: $250 / square foot * x square feet = $250x\n",
      "3. Maintenance cost: $100,000 + $10 / square foot * x square feet = $100,000 + $10x\n",
      "\n",
      "Total cost: $100x + $250x + $100,000 + $10x = $360x + $100,000\n",
      "\n",
      "Therefore, the correct total cost for the first year of operations as a function of the number of square feet is $360x + $100,000.\n",
      "\n",
      "The student made a mistake in calculating the total cost, as they incorrectly added the maintenance cost, which should be $100,000 + $10x, at the end of their calculation.\n"
     ]
    }
   ],
   "source": [
    "system_role = '''\n",
    "First work out your own solution to the problem.\n",
    "Then compare your solution to the student's solution and evaluate if the student's solution is correct or not.\n",
    "Don't decide if the student's solution is correct until you have done the problem yourself.\n",
    "'''\n",
    "\n",
    "response = generate_response(user_prompt=prompt, system_role=system_role)\n",
    "print(response)"
   ]
  },
  {
   "cell_type": "markdown",
   "metadata": {},
   "source": [
    "## Other Tactics and Principles for Better Prompting\n",
    "- reduce “fluffy” and imprecise descriptions\n",
    "- Don't say what not to do, say what to do instead.\n",
    "- Give hits to push the model to a particular pattern"
   ]
  }
 ],
 "metadata": {
  "kernelspec": {
   "display_name": "Python 3",
   "language": "python",
   "name": "python3"
  },
  "language_info": {
   "codemirror_mode": {
    "name": "ipython",
    "version": 3
   },
   "file_extension": ".py",
   "mimetype": "text/x-python",
   "name": "python",
   "nbconvert_exporter": "python",
   "pygments_lexer": "ipython3",
   "version": "3.11.3"
  }
 },
 "nbformat": 4,
 "nbformat_minor": 2
}
